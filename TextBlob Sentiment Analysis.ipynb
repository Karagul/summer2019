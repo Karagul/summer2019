{
  "nbformat": 4,
  "nbformat_minor": 0,
  "metadata": {
    "colab": {
      "name": "TextBlob Sentiment Analysis.ipynb",
      "provenance": [],
      "collapsed_sections": []
    },
    "kernelspec": {
      "name": "python3",
      "display_name": "Python 3"
    }
  },
  "cells": [
    {
      "cell_type": "markdown",
      "metadata": {
        "id": "Bg35aahooxJC",
        "colab_type": "text"
      },
      "source": [
        "**TextBlob Average Sentiment of Articles Relevant to Companies**\n",
        "\n",
        "In this assignment, you will use TextBlob (a natural language processing package in Python) to gain an idea of the recent publicity of a firm. You will find twenty recent articles about a given company and calculate the average sentiment polarity and sentiment subjectivity. You will then compare your findings to fluctuations in the stock price over your researched time period to form a conclusion about the correlation between sentiment scores and stock price.\n",
        "\n",
        "*Each text and code block in this Jupyter Notebook environment is interactive and can be edited by double clicking on the desired cell. Once a code block is selected, click on the play button in the left margin of the block to run the code. Alternatively, you can press (Ctrl+Enter)/(Cmd+Enter).*\n",
        "\n",
        "*This notebook is structed so that informational text blocks are placed ABOVE the code block which accompanies it. Read the text blocks to understand each subsequent code block, then run the code.*"
      ]
    },
    {
      "cell_type": "markdown",
      "metadata": {
        "id": "nN2jL7BfpzbZ",
        "colab_type": "text"
      },
      "source": [
        "In the first code block below, you will import the required packages and functions for this natural-language processing assignment."
      ]
    },
    {
      "cell_type": "code",
      "metadata": {
        "id": "LhVYCvfhjSra",
        "colab_type": "code",
        "outputId": "d4a859ec-f5d3-4951-a983-c4cd49908af1",
        "colab": {
          "base_uri": "https://localhost:8080/",
          "height": 68
        }
      },
      "source": [
        "from textblob import TextBlob\n",
        "import nltk\n",
        "nltk.download('punkt')"
      ],
      "execution_count": 0,
      "outputs": [
        {
          "output_type": "stream",
          "text": [
            "[nltk_data] Downloading package punkt to /root/nltk_data...\n",
            "[nltk_data]   Unzipping tokenizers/punkt.zip.\n"
          ],
          "name": "stdout"
        },
        {
          "output_type": "execute_result",
          "data": {
            "text/plain": [
              "True"
            ]
          },
          "metadata": {
            "tags": []
          },
          "execution_count": 8
        }
      ]
    },
    {
      "cell_type": "markdown",
      "metadata": {
        "id": "cUS2NdtWrGjz",
        "colab_type": "text"
      },
      "source": [
        "In the set of code below, you will initalize two empty lists to store the polarity scores and subjectivity scores from the *sentiment* function of TextBlob. Keeping the numerical values in lists ensures that the average score can be calculated simply later on."
      ]
    },
    {
      "cell_type": "code",
      "metadata": {
        "id": "tV_TIqM9q0UW",
        "colab_type": "code",
        "colab": {}
      },
      "source": [
        "plist = list()\n",
        "slist = list()"
      ],
      "execution_count": 0,
      "outputs": []
    },
    {
      "cell_type": "markdown",
      "metadata": {
        "id": "qZ8ExyBwqJU_",
        "colab_type": "text"
      },
      "source": [
        "In the code below, you initialize a variable 'a1' to reference the text of the first article. Copy and paste your entire article contents (including the title) into a text file (.txt). Remove all empty lines and ensure that the words are formatted as one large paragraph in the text editor."
      ]
    },
    {
      "cell_type": "code",
      "metadata": {
        "id": "v_QDDOaJliqF",
        "colab_type": "code",
        "colab": {}
      },
      "source": [
        "a1 = TextBlob(\"Apple Watch Hasn’t Crushed the Swiss. Not Yet. When Apple’s chief executive, Timothy D. Cook, announced the Apple Watch in September 2014, the Swiss watch industry shuddered. The company’s arrival in the watch market carried an echo of the quartz revolution that devastated mechanical watchmaking in the 1970s, and some experts wondered whether the Apple Watch would cause a similar upheaval. Five years on, the Apple Watch and those from competitors like Samsung and Huawei have not had the crushing effect some Swiss brands had feared. But, as the category continues to grow, some experts say the worst may be yet to come. “We believe,” Mr. Cook said during the 2014 introduction, that the Apple Watch “will redefine what people expect from its category.” Which category was that? Well, Apple clearly sees itself as a watchmaker. And it has described the Apple Watch as “the No. 1 watch in the world,” comparing sales — although never providing actual numbers — to those of the traditional industry giants Rolex, Omega and Cartier. It might be an accurate assessment. The research firm Strategy Analytics has calculated that 22.5 million Apple Watches were shipped in 2018, while the Federation of the Swiss Watch Industry said the industry exported 23.7 million watches in the same period. Reports now suggest that 2019 will be the first year Apple outsells the entire Swiss watch industry by volume. And while sales in the traditional Swiss sector also have been growing, there are indications that the smartwatch expansion has come at the expense of its lower-price timepieces. The federation’s 2018 data shows a 5 percent decline in watches with export prices of less than 500 Swiss francs ( $511), so its growth is being achieved by a reliance on high-end timepieces. A New Category One thing Apple’s success produced was an entirely new category in Swiss watchmaking: the luxury smartwatch. A few high-profile brands, including Louis Vuitton, TAG Heuer and Montblanc, introduced smartwatches of their own. Others, like Frédérique Constant, produced hybrids: smartwatches that connect to smartphones but have analog displays like traditional watches. After an initial sales rush, signs are that the market for luxury smartwatches has been stagnating. (The picture isn’t entirely clear, however, as the manufacturers release so little data.) The Digital Luxury Group, a research and marketing company in Geneva that measures what it calls global “interest” by tallying internet searches, said the public’s curiosity about luxury smartwatches grew from 2015 to 2017, but has plateaued and, in some cases, declined. For example, according to its research, there were 60,500 Google searches for the TAG Heuer Connected Modular in April, compared with more than 350,000 in December 2015, the month after the watch was introduced. And some of TAG Heuer’s competitors can only dream of those numbers. Since their 2017 introductions, neither Louis Vuitton’s Tambour nor Montblanc’s Summit luxury smartwatches have exceeded 50,000 Google searches a month, the group’s information showed. And in April, there were just 1,300 searches for the Louis Vuitton watch. (The group said it had no evidence of how the data equated to sales.) However, Benedicte Soteras, Digital Luxury Group’s head of search, noted that interest in traditional mechanical watches had remained high since 2015. “It’s like the e-book and print,” she said. “You will always find audiences for both types of product.” An analyst with Counterpoint Research, a Hong Kong-based analytics company, said his review of market data indicated that luxury smartwatch sales had been declining. When TAG Heuer introduced the Connected Modular range, supported by the might of its LVMH Moët Hennessy Louis Vuitton parent organization, “there seemed to be an upswell,” said Peter Richardson, a research director at Counterpoint. “They seemed to be doing reasonable volumes — over 1,000 per week. But it seems to have faded off.” Mr. Richardson said he did not have precise information about shipments of the TAG Heuer smartwatch, but he said the “indicative direction was negative from 2017,” based on research by the Swiss investment bank Vontobel (which calculated a decline of 2 percent in TAG Heuer revenues in 2018). Change of Heart This might explain why luxury watch brands appear to have cooled on smartwatches. For example, Gucci’s “smartband” collaboration with the recording artist and entrepreneur Will.i.am that was announced at Baselworld in 2015 has disappeared. And the only luxury smartwatch introduction at the major Swiss watch fairs this year was TAG Heuer’s Connected Modular Golf Edition, a line extension. Analysts agreed that mixing luxury and the rapid obsolescence of a smartwatch was a consumer turnoff. Mr. Richardson of Counterpoint Research compared luxury smartwatches to the smartphones made by Vertu, his former employer. “It was incongruous that you had this amazing handcrafted piece of art and engineering, but underneath was this very bog-standard smartphone,” he said of the failed phone brand. “And that’s the danger in the luxury smartwatch world.” (Louis Vuitton, TAG Heuer and Montblanc all use Google’s Wear OS, an operating system available in much cheaper watches, like Fossil’s $275 Sport smartwatch.) Nicolas Baretzki, Montblanc’s chief executive, disagreed. “This segment will become so big there’s no reason why people would only want to wear ugly things on their wrist,” he said. “There is a clear opportunity to build a luxury segment here.” The company introduced its second smartwatch, the Summit 2, last year. And, Mr. Baretzski said, Summit sales “nearly doubled” in 2018. Montblanc’s parent company, Richemont, also does not disclose sales by brand. Peter Stas, chief executive of Frédérique Constant and Alpina, Citizen-owned Swiss brands whose hybrid luxury smartwatches sell in the same range as the Apple Watch, went further in his market analysis. Brands that “stay with a 30-year-old quartz caliber, they’re waiting to die,” he said, referring to Swiss companies yet to adopt the new technology. “Smartwatches are going to take more and more share of the total watch market.” He said his companies, which sit in the so-called “affordable luxury” midmarket segment that has been eroded by smartwatches, have been propped up by their smartwatch sales, which account for 15 percent of Frédérique Constant’s revenues and 30 percent of Alpina’s. And Mr. Stas, who also heads the smartwatch technology company MMT that produces modules for Frédérique Constant and Alpina watches, said he believed that the development of health apps would prompt more and more consumers, particularly older people, to adopt smartwatches. “Health prediction functionality is still in the baby phase,” he said. “It will become better and better, and this is where smartwatches will be devastating for the industry. Health is worth more than prestige.” From Retail At least one watch retail group said luxury smartwatches have had little impact on its business. “By nature, they’re peripheral to the luxury market,” said Brian Duffy, chief executive of the Watches of Switzerland Group, which operates 125 stores in Britain and 21 in the United States, and which began trading on London’s FTSE 100 in May. The group recently commissioned a customer survey, Mr. Duffy said, that found only 1 percent of the respondents considered a smartwatch to be a replacement for a traditional watch. “Luxury things you want to have forever,” he said, but with a smartwatch, “you’re buying technology that has an expiration date on it.” However, he added, that the group had sold 1.2 million pounds (about $1.5 million) worth of TAG Heuer’s smartwatches in Britain and “could have sold more” of Hublot’s limited edition Big Bang Referee 2018 FIFA World Cup Russia smartwatch. Some analysts said smartwatches actually have had a positive impact on sales of traditional watches. “Smartwatches and smartwatch retailers not normally in the watch retail business are bringing additional consumers into wearing a time-telling device on their wrist,” said Reginald Brack of the NPD Group, an information service company. “And when people wear a time-telling device on their wrist, they want something that’s an expression of who they are. That’s very reassuring for the watch business.”\")"
      ],
      "execution_count": 0,
      "outputs": []
    },
    {
      "cell_type": "markdown",
      "metadata": {
        "id": "Di1eW-5o7juF",
        "colab_type": "text"
      },
      "source": [
        "Similarly, the text file itself can be uploaded and initialized as shown below."
      ]
    },
    {
      "cell_type": "code",
      "metadata": {
        "id": "5WLkfHko7r55",
        "colab_type": "code",
        "outputId": "52a26714-cc7a-47cb-82fc-75465b3788fa",
        "colab": {
          "resources": {
            "http://localhost:8080/nbextensions/google.colab/files.js": {
              "data": "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",
              "ok": true,
              "headers": [
                [
                  "content-type",
                  "application/javascript"
                ]
              ],
              "status": 200,
              "status_text": ""
            }
          },
          "base_uri": "https://localhost:8080/",
          "height": 108
        }
      },
      "source": [
        "from google.colab import files\n",
        "files.upload()"
      ],
      "execution_count": 0,
      "outputs": [
        {
          "output_type": "display_data",
          "data": {
            "text/html": [
              "\n",
              "     <input type=\"file\" id=\"files-ecf24156-1cfa-4823-a4f0-caed33082ccb\" name=\"files[]\" multiple disabled />\n",
              "     <output id=\"result-ecf24156-1cfa-4823-a4f0-caed33082ccb\">\n",
              "      Upload widget is only available when the cell has been executed in the\n",
              "      current browser session. Please rerun this cell to enable.\n",
              "      </output>\n",
              "      <script src=\"/nbextensions/google.colab/files.js\"></script> "
            ],
            "text/plain": [
              "<IPython.core.display.HTML object>"
            ]
          },
          "metadata": {
            "tags": []
          }
        },
        {
          "output_type": "stream",
          "text": [
            "Saving AAPL A1.txt to AAPL A1 (1).txt\n"
          ],
          "name": "stdout"
        },
        {
          "output_type": "execute_result",
          "data": {
            "text/plain": [
              "{'AAPL A1.txt': b'Apple Watch Hasn\\xe2\\x80\\x99t Crushed the Swiss. Not Yet. When Apple\\xe2\\x80\\x99s chief executive, Timothy D. Cook, announced the Apple Watch in September 2014, the Swiss watch industry shuddered. The company\\xe2\\x80\\x99s arrival in the watch market carried an echo of the quartz revolution that devastated mechanical watchmaking in the 1970s, and some experts wondered whether the Apple Watch would cause a similar upheaval. Five years on, the Apple Watch and those from competitors like Samsung and Huawei have not had the crushing effect some Swiss brands had feared. But, as the category continues to grow, some experts say the worst may be yet to come. \\xe2\\x80\\x9cWe believe,\\xe2\\x80\\x9d Mr. Cook said during the 2014 introduction, that the Apple Watch \\xe2\\x80\\x9cwill redefine what people expect from its category.\\xe2\\x80\\x9d Which category was that? Well, Apple clearly sees itself as a watchmaker. And it has described the Apple Watch as \\xe2\\x80\\x9cthe No. 1 watch in the world,\\xe2\\x80\\x9d comparing sales \\xe2\\x80\\x94 although never providing actual numbers \\xe2\\x80\\x94 to those of the traditional industry giants Rolex, Omega and Cartier. It might be an accurate assessment. The research firm Strategy Analytics has calculated that 22.5 million Apple Watches were shipped in 2018, while the Federation of the Swiss Watch Industry said the industry exported 23.7 million watches in the same period. Reports now suggest that 2019 will be the first year Apple outsells the entire Swiss watch industry by volume. And while sales in the traditional Swiss sector also have been growing, there are indications that the smartwatch expansion has come at the expense of its lower-price timepieces. The federation\\xe2\\x80\\x99s 2018 data shows a 5 percent decline in watches with export prices of less than 500 Swiss francs ( $511), so its growth is being achieved by a reliance on high-end timepieces. A New Category One thing Apple\\xe2\\x80\\x99s success produced was an entirely new category in Swiss watchmaking: the luxury smartwatch. A few high-profile brands, including Louis Vuitton, TAG Heuer and Montblanc, introduced smartwatches of their own. Others, like Fr\\xc3\\xa9d\\xc3\\xa9rique Constant, produced hybrids: smartwatches that connect to smartphones but have analog displays like traditional watches. After an initial sales rush, signs are that the market for luxury smartwatches has been stagnating. (The picture isn\\xe2\\x80\\x99t entirely clear, however, as the manufacturers release so little data.) The Digital Luxury Group, a research and marketing company in Geneva that measures what it calls global \\xe2\\x80\\x9cinterest\\xe2\\x80\\x9d by tallying internet searches, said the public\\xe2\\x80\\x99s curiosity about luxury smartwatches grew from 2015 to 2017, but has plateaued and, in some cases, declined. For example, according to its research, there were 60,500 Google searches for the TAG Heuer Connected Modular in April, compared with more than 350,000 in December 2015, the month after the watch was introduced. And some of TAG Heuer\\xe2\\x80\\x99s competitors can only dream of those numbers. Since their 2017 introductions, neither Louis Vuitton\\xe2\\x80\\x99s Tambour nor Montblanc\\xe2\\x80\\x99s Summit luxury smartwatches have exceeded 50,000 Google searches a month, the group\\xe2\\x80\\x99s information showed. And in April, there were just 1,300 searches for the Louis Vuitton watch. (The group said it had no evidence of how the data equated to sales.) However, Benedicte Soteras, Digital Luxury Group\\xe2\\x80\\x99s head of search, noted that interest in traditional mechanical watches had remained high since 2015. \\xe2\\x80\\x9cIt\\xe2\\x80\\x99s like the e-book and print,\\xe2\\x80\\x9d she said. \\xe2\\x80\\x9cYou will always find audiences for both types of product.\\xe2\\x80\\x9d An analyst with Counterpoint Research, a Hong Kong-based analytics company, said his review of market data indicated that luxury smartwatch sales had been declining. When TAG Heuer introduced the Connected Modular range, supported by the might of its LVMH Mo\\xc3\\xabt Hennessy Louis Vuitton parent organization, \\xe2\\x80\\x9cthere seemed to be an upswell,\\xe2\\x80\\x9d said Peter Richardson, a research director at Counterpoint. \\xe2\\x80\\x9cThey seemed to be doing reasonable volumes \\xe2\\x80\\x94 over 1,000 per week. But it seems to have faded off.\\xe2\\x80\\x9d Mr. Richardson said he did not have precise information about shipments of the TAG Heuer smartwatch, but he said the \\xe2\\x80\\x9cindicative direction was negative from 2017,\\xe2\\x80\\x9d based on research by the Swiss investment bank Vontobel (which calculated a decline of 2 percent in TAG Heuer revenues in 2018). Change of Heart This might explain why luxury watch brands appear to have cooled on smartwatches. For example, Gucci\\xe2\\x80\\x99s \\xe2\\x80\\x9csmartband\\xe2\\x80\\x9d collaboration with the recording artist and entrepreneur Will.i.am that was announced at Baselworld in 2015 has disappeared. And the only luxury smartwatch introduction at the major Swiss watch fairs this year was TAG Heuer\\xe2\\x80\\x99s Connected Modular Golf Edition, a line extension. Analysts agreed that mixing luxury and the rapid obsolescence of a smartwatch was a consumer turnoff. Mr. Richardson of Counterpoint Research compared luxury smartwatches to the smartphones made by Vertu, his former employer. \\xe2\\x80\\x9cIt was incongruous that you had this amazing handcrafted piece of art and engineering, but underneath was this very bog-standard smartphone,\\xe2\\x80\\x9d he said of the failed phone brand. \\xe2\\x80\\x9cAnd that\\xe2\\x80\\x99s the danger in the luxury smartwatch world.\\xe2\\x80\\x9d (Louis Vuitton, TAG Heuer and Montblanc all use Google\\xe2\\x80\\x99s Wear OS, an operating system available in much cheaper watches, like Fossil\\xe2\\x80\\x99s $275 Sport smartwatch.) Nicolas Baretzki, Montblanc\\xe2\\x80\\x99s chief executive, disagreed. \\xe2\\x80\\x9cThis segment will become so big there\\xe2\\x80\\x99s no reason why people would only want to wear ugly things on their wrist,\\xe2\\x80\\x9d he said. \\xe2\\x80\\x9cThere is a clear opportunity to build a luxury segment here.\\xe2\\x80\\x9d The company introduced its second smartwatch, the Summit 2, last year. And, Mr. Baretzski said, Summit sales \\xe2\\x80\\x9cnearly doubled\\xe2\\x80\\x9d in 2018. Montblanc\\xe2\\x80\\x99s parent company, Richemont, also does not disclose sales by brand. Peter Stas, chief executive of Fr\\xc3\\xa9d\\xc3\\xa9rique Constant and Alpina, Citizen-owned Swiss brands whose hybrid luxury smartwatches sell in the same range as the Apple Watch, went further in his market analysis. Brands that \\xe2\\x80\\x9cstay with a 30-year-old quartz caliber, they\\xe2\\x80\\x99re waiting to die,\\xe2\\x80\\x9d he said, referring to Swiss companies yet to adopt the new technology. \\xe2\\x80\\x9cSmartwatches are going to take more and more share of the total watch market.\\xe2\\x80\\x9d He said his companies, which sit in the so-called \\xe2\\x80\\x9caffordable luxury\\xe2\\x80\\x9d midmarket segment that has been eroded by smartwatches, have been propped up by their smartwatch sales, which account for 15 percent of Fr\\xc3\\xa9d\\xc3\\xa9rique Constant\\xe2\\x80\\x99s revenues and 30 percent of Alpina\\xe2\\x80\\x99s. And Mr. Stas, who also heads the smartwatch technology company MMT that produces modules for Fr\\xc3\\xa9d\\xc3\\xa9rique Constant and Alpina watches, said he believed that the development of health apps would prompt more and more consumers, particularly older people, to adopt smartwatches. \\xe2\\x80\\x9cHealth prediction functionality is still in the baby phase,\\xe2\\x80\\x9d he said. \\xe2\\x80\\x9cIt will become better and better, and this is where smartwatches will be devastating for the industry. Health is worth more than prestige.\\xe2\\x80\\x9d From Retail At least one watch retail group said luxury smartwatches have had little impact on its business. \\xe2\\x80\\x9cBy nature, they\\xe2\\x80\\x99re peripheral to the luxury market,\\xe2\\x80\\x9d said Brian Duffy, chief executive of the Watches of Switzerland Group, which operates 125 stores in Britain and 21 in the United States, and which began trading on London\\xe2\\x80\\x99s FTSE 100 in May. The group recently commissioned a customer survey, Mr. Duffy said, that found only 1 percent of the respondents considered a smartwatch to be a replacement for a traditional watch. \\xe2\\x80\\x9cLuxury things you want to have forever,\\xe2\\x80\\x9d he said, but with a smartwatch, \\xe2\\x80\\x9cyou\\xe2\\x80\\x99re buying technology that has an expiration date on it.\\xe2\\x80\\x9d However, he added, that the group had sold 1.2 million pounds (about $1.5 million) worth of TAG Heuer\\xe2\\x80\\x99s smartwatches in Britain and \\xe2\\x80\\x9ccould have sold more\\xe2\\x80\\x9d of Hublot\\xe2\\x80\\x99s limited edition Big Bang Referee 2018 FIFA World Cup Russia smartwatch. Some analysts said smartwatches actually have had a positive impact on sales of traditional watches. \\xe2\\x80\\x9cSmartwatches and smartwatch retailers not normally in the watch retail business are bringing additional consumers into wearing a time-telling device on their wrist,\\xe2\\x80\\x9d said Reginald Brack of the NPD Group, an information service company. \\xe2\\x80\\x9cAnd when people wear a time-telling device on their wrist, they want something that\\xe2\\x80\\x99s an expression of who they are. That\\xe2\\x80\\x99s very reassuring for the watch business.\\xe2\\x80\\x9d'}"
            ]
          },
          "metadata": {
            "tags": []
          },
          "execution_count": 11
        }
      ]
    },
    {
      "cell_type": "code",
      "metadata": {
        "id": "xskp_iqs8Nn0",
        "colab_type": "code",
        "colab": {}
      },
      "source": [
        "a2=open(\"AAPL A1.txt\", \"r\")\n",
        "a2contents = a2.read()"
      ],
      "execution_count": 0,
      "outputs": []
    },
    {
      "cell_type": "code",
      "metadata": {
        "id": "n8C5qzIw8fPf",
        "colab_type": "code",
        "colab": {}
      },
      "source": [
        "article2 = TextBlob(a2contents)"
      ],
      "execution_count": 0,
      "outputs": []
    },
    {
      "cell_type": "markdown",
      "metadata": {
        "id": "p6ZgNSF1rjgD",
        "colab_type": "text"
      },
      "source": [
        "In the set of code below, you will save the sentiment polarity and subjectivity into variables."
      ]
    },
    {
      "cell_type": "code",
      "metadata": {
        "id": "-poZBQjzlodW",
        "colab_type": "code",
        "outputId": "6e55ccc8-636d-46f8-998d-d4dc6b102b9c",
        "colab": {
          "base_uri": "https://localhost:8080/",
          "height": 51
        }
      },
      "source": [
        "a1p = a1.sentiment.polarity\n",
        "a1s = a1.sentiment.subjectivity\n",
        "print(a1p)\n",
        "print(a1s)"
      ],
      "execution_count": 0,
      "outputs": [
        {
          "output_type": "stream",
          "text": [
            "0.07021524771524774\n",
            "0.4395096467318689\n"
          ],
          "name": "stdout"
        }
      ]
    },
    {
      "cell_type": "markdown",
      "metadata": {
        "id": "DNzutN3cr01k",
        "colab_type": "text"
      },
      "source": [
        "In the set of code below, the *append* function is used to add values to a list-object. The \"plist\" stores values for sentiment polarity while \"slist\" stores those for sentiment subjectivity."
      ]
    },
    {
      "cell_type": "code",
      "metadata": {
        "id": "oRCgIz2iqhrf",
        "colab_type": "code",
        "outputId": "205e9dfd-6be9-4090-f48f-b8cc12fa00f9",
        "colab": {
          "base_uri": "https://localhost:8080/",
          "height": 51
        }
      },
      "source": [
        "plist.append(a1p)\n",
        "slist.append(a1s)\n",
        "print(plist)\n",
        "print(slist)"
      ],
      "execution_count": 0,
      "outputs": [
        {
          "output_type": "stream",
          "text": [
            "[0.07021524771524774]\n",
            "[0.4395096467318689]\n"
          ],
          "name": "stdout"
        }
      ]
    },
    {
      "cell_type": "markdown",
      "metadata": {
        "id": "kcP7s97sr_D1",
        "colab_type": "text"
      },
      "source": [
        "Using this methodology above,  add the sentiment polarity/subjectivity scores for 20 articles into their resepctive lists. Print mean(plist) and mean(slist) to display the average sentiment polarity and subjectivity scores. Be sure to save these latter two values with a distinct reference variable. For the next part of this assignment, you will analyze the correlation between stock price for the dates of your article and the sentiment polarity/subjectivity scores. The code block below will provide a rough methodology to calculate a correlation coefficient using the numpy package and the *corrcoef* function. Note that the following code simply provides an example of the functions and methodology to achieve the objective. Your final lists will have 20 values each. Please remember to check the dates of your articles carefully and ensure you are retrieving the correct stock price to include as part of your data."
      ]
    },
    {
      "cell_type": "code",
      "metadata": {
        "id": "HF0YwlxSuD_T",
        "colab_type": "code",
        "outputId": "0c7ae4e1-711e-4a3f-bef6-61224f6f1e64",
        "colab": {
          "base_uri": "https://localhost:8080/",
          "height": 85
        }
      },
      "source": [
        "import numpy as np\n",
        "listpolarityscores = [0.1, 0.2, 0.3, 0.4, 0.5, 0.6, 0.7]\n",
        "listsubjectscores = [0.7, .6, .5, .4, .3, .2, .1]\n",
        "liststockprice = [199.80, 199.74, 197.92, 201.55, 202.73, 204.41, 204.23]\n",
        "stockpolaritycorr = np.corrcoef(liststockprice, listpolarityscores)\n",
        "stocksubjectcorr = np.corrcoef(liststockprice, listsubjectscores)\n",
        "print(stockpolaritycorr)\n",
        "print(stocksubjectcorr)"
      ],
      "execution_count": 0,
      "outputs": [
        {
          "output_type": "stream",
          "text": [
            "[[1.         0.86143185]\n",
            " [0.86143185 1.        ]]\n",
            "[[ 1.         -0.86143185]\n",
            " [-0.86143185  1.        ]]\n"
          ],
          "name": "stdout"
        }
      ]
    }
  ]
}